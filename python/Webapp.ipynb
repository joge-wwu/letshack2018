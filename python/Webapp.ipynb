{
 "cells": [
  {
   "cell_type": "code",
   "execution_count": null,
   "metadata": {},
   "outputs": [
    {
     "name": "stderr",
     "output_type": "stream",
     "text": [
      " * Running on http://0.0.0.0:5002/ (Press CTRL+C to quit)\n"
     ]
    },
    {
     "name": "stdout",
     "output_type": "stream",
     "text": [
      "POST ANGLE\n",
      "##########\n"
     ]
    },
    {
     "name": "stderr",
     "output_type": "stream",
     "text": [
      "192.168.0.162 - - [13/Jan/2018 15:57:05] \"POST /classifier HTTP/1.1\" 200 -\n"
     ]
    },
    {
     "name": "stdout",
     "output_type": "stream",
     "text": [
      "temp.jpg\n",
      "['std car back', 'std car front', 'std car left', 'std car right', 'std car wrong']\n",
      "{\"car_back\": \"3.57644e-05\", \"car_front\": \"0.997451\", \"car_left\": \"4.71533e-15\", \"car_right\": \"8.83384e-14\", \"car_wrong\": \"0.00251273\"}\n",
      "[3.5764366e-05, 0.99745148, 4.7153337e-15, 8.8338387e-14, 0.0025127262]\n",
      "car_front\n",
      "POST LP\n",
      "##########\n"
     ]
    },
    {
     "name": "stderr",
     "output_type": "stream",
     "text": [
      "192.168.0.162 - - [13/Jan/2018 15:57:08] \"POST /licenceplate HTTP/1.1\" 200 -\n"
     ]
    },
    {
     "name": "stdout",
     "output_type": "stream",
     "text": [
      "MSLH18\n",
      "POST ANGLE\n",
      "##########\n"
     ]
    },
    {
     "name": "stderr",
     "output_type": "stream",
     "text": [
      "192.168.0.162 - - [13/Jan/2018 15:57:22] \"POST /classifier HTTP/1.1\" 200 -\n"
     ]
    },
    {
     "name": "stdout",
     "output_type": "stream",
     "text": [
      "temp.jpg\n",
      "['std car back', 'std car front', 'std car left', 'std car right', 'std car wrong']\n",
      "{\"car_back\": \"7.56387e-13\", \"car_front\": \"3.09336e-11\", \"car_left\": \"1.35883e-06\", \"car_right\": \"0.999998\", \"car_wrong\": \"2.04275e-07\"}\n",
      "[7.5638741e-13, 3.0933592e-11, 1.3588307e-06, 0.99999845, 2.0427481e-07]\n",
      "car_side_right\n",
      "POST ANGLE\n",
      "##########\n"
     ]
    },
    {
     "name": "stderr",
     "output_type": "stream",
     "text": [
      "192.168.0.162 - - [13/Jan/2018 15:57:33] \"POST /classifier HTTP/1.1\" 200 -\n"
     ]
    },
    {
     "name": "stdout",
     "output_type": "stream",
     "text": [
      "temp.jpg\n",
      "['std car back', 'std car front', 'std car left', 'std car right', 'std car wrong']\n",
      "{\"car_back\": \"0.133761\", \"car_front\": \"0.774864\", \"car_left\": \"1.94723e-12\", \"car_right\": \"1.63889e-12\", \"car_wrong\": \"0.0913753\"}\n",
      "[0.13376075, 0.77486396, 1.9472306e-12, 1.6388853e-12, 0.091375284]\n",
      "car_back\n",
      "POST ANGLE\n",
      "##########\n"
     ]
    },
    {
     "name": "stderr",
     "output_type": "stream",
     "text": [
      "192.168.0.162 - - [13/Jan/2018 15:57:44] \"POST /classifier HTTP/1.1\" 200 -\n"
     ]
    },
    {
     "name": "stdout",
     "output_type": "stream",
     "text": [
      "temp.jpg\n",
      "['std car back', 'std car front', 'std car left', 'std car right', 'std car wrong']\n",
      "{\"car_back\": \"2.07594e-10\", \"car_front\": \"1.94612e-09\", \"car_left\": \"6.99228e-07\", \"car_right\": \"0.999946\", \"car_wrong\": \"5.37518e-05\"}\n",
      "[2.0759378e-10, 1.9461175e-09, 6.9922839e-07, 0.99994552, 5.3751821e-05]\n",
      "car_side_left\n",
      "POST ANGLE\n",
      "##########\n"
     ]
    },
    {
     "name": "stderr",
     "output_type": "stream",
     "text": [
      "192.168.0.162 - - [13/Jan/2018 15:58:36] \"POST /classifier HTTP/1.1\" 400 -\n"
     ]
    },
    {
     "name": "stdout",
     "output_type": "stream",
     "text": [
      "temp.jpg\n",
      "['std car back', 'std car front', 'std car left', 'std car right', 'std car wrong']\n",
      "{\"car_back\": \"7.72787e-11\", \"car_front\": \"5.51114e-07\", \"car_left\": \"6.50179e-15\", \"car_right\": \"2.78587e-10\", \"car_wrong\": \"0.999999\"}\n",
      "[7.7278732e-11, 5.51114e-07, 6.5017889e-15, 2.7858721e-10, 0.9999994]\n",
      "car_front\n",
      "POST ANGLE\n",
      "##########\n"
     ]
    },
    {
     "name": "stderr",
     "output_type": "stream",
     "text": [
      "192.168.0.162 - - [13/Jan/2018 15:58:49] \"POST /classifier HTTP/1.1\" 400 -\n"
     ]
    },
    {
     "name": "stdout",
     "output_type": "stream",
     "text": [
      "temp.jpg\n",
      "['std car back', 'std car front', 'std car left', 'std car right', 'std car wrong']\n",
      "{\"car_back\": \"1.15465e-07\", \"car_front\": \"4.86833e-05\", \"car_left\": \"2.12265e-09\", \"car_right\": \"8.52836e-07\", \"car_wrong\": \"0.99995\"}\n",
      "[1.1546486e-07, 4.8683327e-05, 2.1226507e-09, 8.5283551e-07, 0.99995029]\n",
      "car_front\n",
      "POST ANGLE\n",
      "##########\n"
     ]
    },
    {
     "name": "stderr",
     "output_type": "stream",
     "text": [
      "192.168.0.162 - - [13/Jan/2018 15:58:56] \"POST /classifier HTTP/1.1\" 400 -\n"
     ]
    },
    {
     "name": "stdout",
     "output_type": "stream",
     "text": [
      "temp.jpg\n",
      "['std car back', 'std car front', 'std car left', 'std car right', 'std car wrong']\n",
      "{\"car_back\": \"1.26294e-10\", \"car_front\": \"4.61851e-08\", \"car_left\": \"5.0553e-08\", \"car_right\": \"5.73106e-07\", \"car_wrong\": \"0.999999\"}\n",
      "[1.2629374e-10, 4.6185104e-08, 5.0552973e-08, 5.7310609e-07, 0.99999928]\n",
      "car_front\n",
      "POST ANGLE\n",
      "##########\n"
     ]
    },
    {
     "name": "stderr",
     "output_type": "stream",
     "text": [
      "192.168.0.162 - - [13/Jan/2018 15:59:11] \"POST /classifier HTTP/1.1\" 200 -\n"
     ]
    },
    {
     "name": "stdout",
     "output_type": "stream",
     "text": [
      "temp.jpg\n",
      "['std car back', 'std car front', 'std car left', 'std car right', 'std car wrong']\n",
      "{\"car_back\": \"0.00190077\", \"car_front\": \"0.988878\", \"car_left\": \"3.96193e-13\", \"car_right\": \"2.2208e-13\", \"car_wrong\": \"0.00922154\"}\n",
      "[0.00190077, 0.98887771, 3.9619293e-13, 2.2208009e-13, 0.009221538]\n",
      "car_front\n",
      "POST LP\n",
      "##########\n"
     ]
    },
    {
     "name": "stderr",
     "output_type": "stream",
     "text": [
      "192.168.0.162 - - [13/Jan/2018 15:59:12] \"POST /licenceplate HTTP/1.1\" 200 -\n"
     ]
    },
    {
     "name": "stdout",
     "output_type": "stream",
     "text": [
      "5LH18\n",
      "POST ANGLE\n",
      "##########\n"
     ]
    },
    {
     "name": "stderr",
     "output_type": "stream",
     "text": [
      "192.168.0.162 - - [13/Jan/2018 15:59:31] \"POST /classifier HTTP/1.1\" 200 -\n"
     ]
    },
    {
     "name": "stdout",
     "output_type": "stream",
     "text": [
      "temp.jpg\n",
      "['std car back', 'std car front', 'std car left', 'std car right', 'std car wrong']\n",
      "{\"car_back\": \"2.69681e-10\", \"car_front\": \"1.54624e-10\", \"car_left\": \"1.85099e-08\", \"car_right\": \"0.999928\", \"car_wrong\": \"7.14675e-05\"}\n",
      "[2.6968081e-10, 1.5462383e-10, 1.850988e-08, 0.99992847, 7.1467512e-05]\n",
      "car_side_right\n",
      "POST ANGLE\n",
      "##########\n"
     ]
    },
    {
     "name": "stderr",
     "output_type": "stream",
     "text": [
      "192.168.0.162 - - [13/Jan/2018 15:59:40] \"POST /classifier HTTP/1.1\" 400 -\n"
     ]
    },
    {
     "name": "stdout",
     "output_type": "stream",
     "text": [
      "temp.jpg\n",
      "['std car back', 'std car front', 'std car left', 'std car right', 'std car wrong']\n",
      "{\"car_back\": \"0.594186\", \"car_front\": \"0.00315914\", \"car_left\": \"9.07166e-16\", \"car_right\": \"3.11204e-09\", \"car_wrong\": \"0.402655\"}\n",
      "[0.59418577, 0.0031591428, 9.0716636e-16, 3.112038e-09, 0.40265515]\n",
      "car_back\n",
      "POST ANGLE\n",
      "##########\n"
     ]
    },
    {
     "name": "stderr",
     "output_type": "stream",
     "text": [
      "192.168.0.162 - - [13/Jan/2018 15:59:47] \"POST /classifier HTTP/1.1\" 200 -\n"
     ]
    },
    {
     "name": "stdout",
     "output_type": "stream",
     "text": [
      "temp.jpg\n",
      "['std car back', 'std car front', 'std car left', 'std car right', 'std car wrong']\n",
      "{\"car_back\": \"0.855564\", \"car_front\": \"0.000428236\", \"car_left\": \"3.81431e-13\", \"car_right\": \"1.71251e-10\", \"car_wrong\": \"0.144008\"}\n",
      "[0.85556364, 0.00042823568, 3.8143146e-13, 1.7125135e-10, 0.14400811]\n",
      "car_back\n",
      "POST ANGLE\n",
      "##########\n"
     ]
    },
    {
     "name": "stderr",
     "output_type": "stream",
     "text": [
      "192.168.0.162 - - [13/Jan/2018 15:59:58] \"POST /classifier HTTP/1.1\" 200 -\n"
     ]
    },
    {
     "name": "stdout",
     "output_type": "stream",
     "text": [
      "temp.jpg\n",
      "['std car back', 'std car front', 'std car left', 'std car right', 'std car wrong']\n",
      "{\"car_back\": \"2.64273e-12\", \"car_front\": \"2.48291e-10\", \"car_left\": \"6.35789e-05\", \"car_right\": \"0.999933\", \"car_wrong\": \"3.22711e-06\"}\n",
      "[2.6427309e-12, 2.4829122e-10, 6.3578897e-05, 0.99993324, 3.2271093e-06]\n",
      "car_side_left\n",
      "POST ANGLE\n",
      "##########\n"
     ]
    },
    {
     "name": "stderr",
     "output_type": "stream",
     "text": [
      "192.168.0.162 - - [13/Jan/2018 16:05:01] \"POST /classifier HTTP/1.1\" 200 -\n"
     ]
    },
    {
     "name": "stdout",
     "output_type": "stream",
     "text": [
      "temp.jpg\n",
      "['std car back', 'std car front', 'std car left', 'std car right', 'std car wrong']\n",
      "{\"car_back\": \"1.33238e-05\", \"car_front\": \"0.996063\", \"car_left\": \"4.13301e-14\", \"car_right\": \"2.75908e-11\", \"car_wrong\": \"0.00392408\"}\n",
      "[1.3323775e-05, 0.99606258, 4.1330105e-14, 2.759081e-11, 0.0039240834]\n",
      "car_front\n",
      "POST LP\n",
      "##########\n"
     ]
    },
    {
     "name": "stderr",
     "output_type": "stream",
     "text": [
      "192.168.0.162 - - [13/Jan/2018 16:05:02] \"POST /licenceplate HTTP/1.1\" 409 -\n"
     ]
    },
    {
     "name": "stdout",
     "output_type": "stream",
     "text": [
      "POST ANGLE\n",
      "##########\n"
     ]
    },
    {
     "name": "stderr",
     "output_type": "stream",
     "text": [
      "192.168.0.162 - - [13/Jan/2018 16:05:19] \"POST /classifier HTTP/1.1\" 200 -\n"
     ]
    },
    {
     "name": "stdout",
     "output_type": "stream",
     "text": [
      "temp.jpg\n",
      "['std car back', 'std car front', 'std car left', 'std car right', 'std car wrong']\n",
      "{\"car_back\": \"6.31742e-10\", \"car_front\": \"1.66692e-09\", \"car_left\": \"2.85293e-06\", \"car_right\": \"0.921273\", \"car_wrong\": \"0.0787246\"}\n",
      "[6.3174233e-10, 1.6669165e-09, 2.8529334e-06, 0.92127258, 0.078724563]\n",
      "car_side_right\n",
      "POST ANGLE\n",
      "##########\n"
     ]
    },
    {
     "name": "stderr",
     "output_type": "stream",
     "text": [
      "192.168.0.162 - - [13/Jan/2018 16:05:35] \"POST /classifier HTTP/1.1\" 200 -\n"
     ]
    },
    {
     "name": "stdout",
     "output_type": "stream",
     "text": [
      "temp.jpg\n",
      "['std car back', 'std car front', 'std car left', 'std car right', 'std car wrong']\n",
      "{\"car_back\": \"0.00253379\", \"car_front\": \"0.997253\", \"car_left\": \"1.00424e-14\", \"car_right\": \"2.52353e-13\", \"car_wrong\": \"0.000213219\"}\n",
      "[0.0025337893, 0.99725288, 1.0042395e-14, 2.5235323e-13, 0.00021321927]\n",
      "car_back\n",
      "POST ANGLE\n",
      "##########\n"
     ]
    },
    {
     "name": "stderr",
     "output_type": "stream",
     "text": [
      "192.168.0.162 - - [13/Jan/2018 16:05:47] \"POST /classifier HTTP/1.1\" 200 -\n"
     ]
    },
    {
     "name": "stdout",
     "output_type": "stream",
     "text": [
      "temp.jpg\n",
      "['std car back', 'std car front', 'std car left', 'std car right', 'std car wrong']\n",
      "{\"car_back\": \"5.31813e-13\", \"car_front\": \"2.51423e-09\", \"car_left\": \"2.82036e-06\", \"car_right\": \"0.999858\", \"car_wrong\": \"0.000139312\"}\n",
      "[5.3181293e-13, 2.5142251e-09, 2.8203585e-06, 0.99985778, 0.00013931196]\n",
      "car_side_left\n",
      "POST ANGLE\n",
      "##########\n"
     ]
    },
    {
     "name": "stderr",
     "output_type": "stream",
     "text": [
      "192.168.0.162 - - [13/Jan/2018 16:06:02] \"POST /classifier HTTP/1.1\" 400 -\n"
     ]
    },
    {
     "name": "stdout",
     "output_type": "stream",
     "text": [
      "temp.jpg\n",
      "['std car back', 'std car front', 'std car left', 'std car right', 'std car wrong']\n",
      "{\"car_back\": \"1.2087e-09\", \"car_front\": \"4.34219e-07\", \"car_left\": \"1.65474e-08\", \"car_right\": \"3.32052e-06\", \"car_wrong\": \"0.999996\"}\n",
      "[1.2087005e-09, 4.342192e-07, 1.6547412e-08, 3.320521e-06, 0.99999619]\n",
      "car_front\n",
      "POST ANGLE\n",
      "##########\n"
     ]
    },
    {
     "name": "stderr",
     "output_type": "stream",
     "text": [
      "192.168.0.162 - - [13/Jan/2018 16:22:19] \"POST /classifier HTTP/1.1\" 400 -\n"
     ]
    },
    {
     "name": "stdout",
     "output_type": "stream",
     "text": [
      "temp.jpg\n",
      "['std car back', 'std car front', 'std car left', 'std car right', 'std car wrong']\n",
      "{\"car_back\": \"8.56468e-08\", \"car_front\": \"2.40887e-06\", \"car_left\": \"2.73888e-08\", \"car_right\": \"6.88826e-07\", \"car_wrong\": \"0.999997\"}\n",
      "[8.5646754e-08, 2.4088718e-06, 2.7388815e-08, 6.8882633e-07, 0.99999678]\n",
      "car_front\n",
      "POST ANGLE\n",
      "##########\n"
     ]
    },
    {
     "name": "stderr",
     "output_type": "stream",
     "text": [
      "192.168.0.162 - - [13/Jan/2018 16:22:30] \"POST /classifier HTTP/1.1\" 200 -\n"
     ]
    },
    {
     "name": "stdout",
     "output_type": "stream",
     "text": [
      "temp.jpg\n",
      "['std car back', 'std car front', 'std car left', 'std car right', 'std car wrong']\n",
      "{\"car_back\": \"6.11623e-06\", \"car_front\": \"0.998927\", \"car_left\": \"1.14864e-15\", \"car_right\": \"1.17395e-15\", \"car_wrong\": \"0.00106685\"}\n",
      "[6.1162345e-06, 0.99892706, 1.1486358e-15, 1.1739476e-15, 0.0010668541]\n",
      "car_front\n",
      "POST LP\n",
      "##########\n"
     ]
    },
    {
     "name": "stderr",
     "output_type": "stream",
     "text": [
      "192.168.0.162 - - [13/Jan/2018 16:22:31] \"POST /licenceplate HTTP/1.1\" 200 -\n"
     ]
    },
    {
     "name": "stdout",
     "output_type": "stream",
     "text": [
      "MSLH18\n",
      "POST ANGLE\n",
      "##########\n"
     ]
    },
    {
     "name": "stderr",
     "output_type": "stream",
     "text": [
      "192.168.0.162 - - [13/Jan/2018 16:22:44] \"POST /classifier HTTP/1.1\" 200 -\n"
     ]
    },
    {
     "name": "stdout",
     "output_type": "stream",
     "text": [
      "temp.jpg\n",
      "['std car back', 'std car front', 'std car left', 'std car right', 'std car wrong']\n",
      "{\"car_back\": \"2.57922e-11\", \"car_front\": \"1.20022e-10\", \"car_left\": \"0.00484767\", \"car_right\": \"0.995136\", \"car_wrong\": \"1.58459e-05\"}\n",
      "[2.5792193e-11, 1.2002156e-10, 0.0048476714, 0.99513644, 1.5845941e-05]\n",
      "car_side_right\n",
      "POST ANGLE\n",
      "##########\n"
     ]
    },
    {
     "name": "stderr",
     "output_type": "stream",
     "text": [
      "192.168.0.162 - - [13/Jan/2018 16:23:03] \"POST /classifier HTTP/1.1\" 200 -\n"
     ]
    },
    {
     "name": "stdout",
     "output_type": "stream",
     "text": [
      "temp.jpg\n",
      "['std car back', 'std car front', 'std car left', 'std car right', 'std car wrong']\n",
      "{\"car_back\": \"0.998699\", \"car_front\": \"0.000295398\", \"car_left\": \"1.08478e-17\", \"car_right\": \"3.98571e-12\", \"car_wrong\": \"0.00100518\"}\n",
      "[0.99869943, 0.00029539844, 1.084776e-17, 3.9857128e-12, 0.0010051822]\n",
      "car_back\n",
      "POST ANGLE\n",
      "##########\n"
     ]
    },
    {
     "name": "stderr",
     "output_type": "stream",
     "text": [
      "192.168.0.162 - - [13/Jan/2018 16:23:23] \"POST /classifier HTTP/1.1\" 200 -\n"
     ]
    },
    {
     "name": "stdout",
     "output_type": "stream",
     "text": [
      "temp.jpg\n",
      "['std car back', 'std car front', 'std car left', 'std car right', 'std car wrong']\n",
      "{\"car_back\": \"2.32499e-10\", \"car_front\": \"1.31783e-10\", \"car_left\": \"0.0010802\", \"car_right\": \"0.998918\", \"car_wrong\": \"2.0784e-06\"}\n",
      "[2.3249883e-10, 1.3178331e-10, 0.0010802015, 0.99891782, 2.0783959e-06]\n",
      "car_side_left\n"
     ]
    }
   ],
   "source": [
    "from flask import Flask, request, abort\n",
    "from flask_restful import Resource, Api\n",
    "from sqlalchemy import create_engine\n",
    "from json import dumps\n",
    "from flask.ext.jsonpify import jsonify\n",
    "from __future__ import absolute_import\n",
    "from __future__ import division\n",
    "from __future__ import print_function\n",
    "\n",
    "import argparse\n",
    "import sys\n",
    "import time\n",
    "import os\n",
    "import base64\n",
    "\n",
    "import numpy as np\n",
    "import tensorflow as tf\n",
    "from __future__ import absolute_import\n",
    "from __future__ import division\n",
    "from __future__ import print_function\n",
    "import scripts.label_image\n",
    "import argparse\n",
    "import sys\n",
    "import time\n",
    "import os\n",
    "import numpy as np\n",
    "import tensorflow as tf\n",
    "import json\n",
    "\n",
    "from PIL import Image, ImageOps, ExifTags\n",
    "import os, errno\n",
    "\n",
    "\n",
    "def load_graph(model_file):\n",
    "    graph = tf.Graph()\n",
    "    graph_def = tf.GraphDef()\n",
    "\n",
    "    with open(model_file, \"rb\") as f:\n",
    "        graph_def.ParseFromString(f.read())\n",
    "    with graph.as_default():\n",
    "        tf.import_graph_def(graph_def)\n",
    "\n",
    "    return graph\n",
    "\n",
    "def read_tensor_from_image_file(file_name, input_height=299, input_width=299, input_mean=0, input_std=255):\n",
    "    input_name = \"file_reader\"\n",
    "    output_name = \"normalized\"\n",
    "    file_reader = tf.read_file(file_name, input_name)\n",
    "    if file_name.endswith(\".png\"):\n",
    "        image_reader = tf.image.decode_png(file_reader, channels = 3,\n",
    "                                           name='png_reader')\n",
    "    elif file_name.endswith(\".gif\"):\n",
    "        image_reader = tf.squeeze(tf.image.decode_gif(file_reader,\n",
    "                                                      name='gif_reader'))\n",
    "    elif file_name.endswith(\".bmp\"):\n",
    "        image_reader = tf.image.decode_bmp(file_reader, name='bmp_reader')\n",
    "    else:\n",
    "        image_reader = tf.image.decode_jpeg(file_reader, channels = 3,\n",
    "                                            name='jpeg_reader')\n",
    "    float_caster = tf.cast(image_reader, tf.float32)\n",
    "    dims_expander = tf.expand_dims(float_caster, 0);\n",
    "    resized = tf.image.resize_bilinear(dims_expander, [input_height, input_width])\n",
    "    normalized = tf.divide(tf.subtract(resized, [input_mean]), [input_std])\n",
    "    sess = tf.Session()\n",
    "    result = sess.run(normalized)\n",
    "    return result\n",
    "\n",
    "def load_labels(label_file):\n",
    "    label = []\n",
    "    proto_as_ascii_lines = tf.gfile.GFile(label_file).readlines()\n",
    "    for l in proto_as_ascii_lines:\n",
    "        label.append(l.rstrip())\n",
    "    return label\n",
    "\n",
    "def resize(file):\n",
    "    desired_size = 256\n",
    " \n",
    "    im = Image.open(file)\n",
    "    \n",
    "    try:\n",
    "        for orientation in ExifTags.TAGS.keys():\n",
    "            if ExifTags.TAGS[orientation]=='Orientation':\n",
    "                break\n",
    "        exif=dict(im._getexif().items())\n",
    "\n",
    "        if exif[orientation] == 3:\n",
    "            im=im.rotate(180, expand=True)\n",
    "        elif exif[orientation] == 6:\n",
    "            im=im.rotate(270, expand=True)\n",
    "        elif exif[orientation] == 8:\n",
    "            im=im.rotate(90, expand=True)\n",
    "\n",
    "    except (AttributeError, KeyError, IndexError):\n",
    "        # cases: image don't have getexif\n",
    "        pass\n",
    "\n",
    "\n",
    "    old_size = im.size  # old_size[0] is in (width, height) format\n",
    "    ratio = float(desired_size)/max(old_size)\n",
    "    new_size = tuple([int(x*ratio) for x in old_size])\n",
    "    # use thumbnail() or resize() method to resize the input image\n",
    "    # thumbnail is a in-place operation\n",
    "    # im.thumbnail(new_size, Image.ANTIALIAS)\n",
    "    im = im.resize(new_size, Image.ANTIALIAS)\n",
    "    # create a new image and paste the resized on it\n",
    "    new_im = Image.new(\"RGB\", (desired_size, desired_size), \"white\")\n",
    "    new_im.paste(im, ((desired_size-new_size[0])//2,\n",
    "                        (desired_size-new_size[1])//2))\n",
    "    new_im = new_im.convert('LA')\n",
    "    # convert to RGB for easier saving\n",
    "    new_im = new_im.convert('RGB')\n",
    "    #new_im.rotate(180)\n",
    "\n",
    "    new_im.save(file)\n",
    "\n",
    "\n",
    "\n",
    "def createJSON(img):\n",
    "    model_file = \"tf_files/retrained_graph.pb\"\n",
    "    label_file = \"tf_files/retrained_labels.txt\"\n",
    "    input_height = 224\n",
    "    input_width = 224\n",
    "    input_mean = 128\n",
    "    input_std = 128\n",
    "    input_layer = \"input\"\n",
    "    output_layer = \"final_result\"\n",
    "    jsons = []\n",
    "\n",
    "    label_file = \"tf_files/retrained_labels.txt\"\n",
    "    #for img in files:\n",
    "    file_name = img\n",
    "    # resize(file_name)\n",
    "    graph = load_graph(model_file)\n",
    "    t = read_tensor_from_image_file(file_name,\n",
    "                                  input_height=input_height,\n",
    "                                  input_width=input_width,\n",
    "                                  input_mean=input_mean,\n",
    "                                  input_std=input_std)\n",
    "\n",
    "    input_name = \"import/\" + input_layer\n",
    "    output_name = \"import/\" + output_layer\n",
    "    input_operation = graph.get_operation_by_name(input_name);\n",
    "    output_operation = graph.get_operation_by_name(output_name);\n",
    "\n",
    "    with tf.Session(graph=graph) as sess:\n",
    "        start = time.time()\n",
    "        results = sess.run(output_operation.outputs[0],\n",
    "                          {input_operation.outputs[0]: t})\n",
    "        end=time.time()\n",
    "    results = np.squeeze(results)\n",
    "\n",
    "    top_k = results.argsort()[-5:][::-1]\n",
    "    labels = load_labels(label_file)\n",
    "\n",
    "    # print('\\nEvaluation time (1-image): {:.3f}s\\n'.format(end-start))\n",
    "    print(img)\n",
    "    labels = load_labels(label_file)\n",
    "    print(labels)\n",
    "    my_json_string = json.dumps({'car_back': str(results[0]), \n",
    "                                 'car_front': str(results[1]), 'car_left': str(results[2]),\n",
    "                                 'car_right': str(results[3]),\n",
    "                                 'car_wrong': str(results[4])})\n",
    "    print(my_json_string)\n",
    "    jsons = jsons + [my_json_string]\n",
    "    \n",
    "    res = [results[0], results[1], results[2], results[3], results[4]]\n",
    "    # return(jsons[0].replace('\\\\\"', '\\\"'))\n",
    "    return(res)\n",
    "\n",
    "\n",
    "app = Flask(__name__)\n",
    "api = Api(app)\n",
    "\n",
    "\n",
    "def evaluate(likelihoods, imageType):\n",
    "    print(likelihoods)\n",
    "    print(imageType)\n",
    "    if (likelihoods[4] > 0.5):\n",
    "        return(False)\n",
    "    carSide = likelihoods[2] + likelihoods[3]\n",
    "    carFrontBack = likelihoods[0] + likelihoods[1]\n",
    "    \n",
    "    if (imageType == \"car_front\") | (imageType == \"car_back\"):\n",
    "        if (carFrontBack > 0.7):\n",
    "            return(True)\n",
    "    \n",
    "    if (imageType == \"car_side_left\") | (imageType == \"car_side_right\"):\n",
    "        if (carSide > 0.7):\n",
    "            return(True)\n",
    "    return(False)\n",
    "\n",
    "\n",
    "class Classifier(Resource):\n",
    "    def get(self):\n",
    "        print(\"GET\")\n",
    "        print(\"##########\")\n",
    "        result = createJSON(\"temp.jpg\")\n",
    "        return(jsonify(result))\n",
    "    def post(self):\n",
    "        print(\"POST ANGLE\")\n",
    "        print(\"##########\")\n",
    "        if not request.json:\n",
    "            abort(400)\n",
    "        imageType = request.json['imageTypeId']\n",
    "        image = request.json['image']\n",
    "        #print(imageType)\n",
    "            \n",
    "        jpgtxt = base64.b64decode(image)\n",
    "\n",
    "        f = open(\"temp.jpg\", \"bw\")\n",
    "        f.write(jpgtxt)\n",
    "        f.close()\n",
    "        result = createJSON(\"temp.jpg\")\n",
    "        isCorrect = evaluate(result, imageType)\n",
    "        if (isCorrect == False):\n",
    "            abort(400)\n",
    "        else:\n",
    "            return(\"Yaaay\")\n",
    "        #return(jsonify(result))\n",
    "    \n",
    "class LicencePlate(Resource):\n",
    "    def post(self):\n",
    "        print(\"POST LP\")\n",
    "        print(\"##########\")\n",
    "        if not request.json:\n",
    "            abort(400)\n",
    "        image = request.json['image']\n",
    "        #print(imageType)\n",
    "            \n",
    "        jpgtxt = base64.b64decode(image)\n",
    "\n",
    "        f = open(\"tempLP.jpg\", \"bw\")\n",
    "        f.write(jpgtxt)\n",
    "        f.close()\n",
    "        res = os.popen('alpr tempLP.jpg -c eu -p de').read()\n",
    "        res = res.split(\"\\n\")\n",
    "        res = res[1].split(\"\\t\")\n",
    "        if res[0] == '':\n",
    "            abort(409)\n",
    "        else:\n",
    "            res = res[0].split(\"- \")[1]\n",
    "            print(res)\n",
    "            return(res)\n",
    "\n",
    "        \n",
    "api.add_resource(Classifier, '/classifier')\n",
    "api.add_resource(LicencePlate, '/licenceplate')\n",
    "\n",
    "\n",
    "if __name__ == '__main__':\n",
    "     app.run(host= '0.0.0.0', port='5002')\n"
   ]
  },
  {
   "cell_type": "code",
   "execution_count": null,
   "metadata": {
    "collapsed": true
   },
   "outputs": [],
   "source": []
  }
 ],
 "metadata": {
  "kernelspec": {
   "display_name": "Python 3",
   "language": "python",
   "name": "python3"
  },
  "language_info": {
   "codemirror_mode": {
    "name": "ipython",
    "version": 3
   },
   "file_extension": ".py",
   "mimetype": "text/x-python",
   "name": "python",
   "nbconvert_exporter": "python",
   "pygments_lexer": "ipython3",
   "version": "3.6.3"
  }
 },
 "nbformat": 4,
 "nbformat_minor": 2
}
